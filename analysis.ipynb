{
 "cells": [
  {
   "cell_type": "code",
   "id": "initial_id",
   "metadata": {
    "collapsed": true,
    "ExecuteTime": {
     "end_time": "2025-06-26T04:23:21.015159Z",
     "start_time": "2025-06-26T04:23:21.008994Z"
    }
   },
   "source": [
    "import pandas as pd\n",
    "import os\n",
    "\n",
    "# --- Configuration ---\n",
    "CSV_FOLDER = 'data_csv'\n",
    "ANALYSIS_FOLDER = 'statistical_analysis'\n",
    "\n",
    "# Define the path to the input file\n",
    "combined_csv_path = os.path.join(CSV_FOLDER, 'all_runs_combined.csv')\n",
    "\n",
    "# Create the output folder if it doesn't exist\n",
    "os.makedirs(ANALYSIS_FOLDER, exist_ok=True)\n",
    "\n",
    "print(f\"Reading combined data from: '{combined_csv_path}'\")\n",
    "print(f\"Will save analysis to: '{ANALYSIS_FOLDER}'\")"
   ],
   "outputs": [
    {
     "name": "stdout",
     "output_type": "stream",
     "text": [
      "Reading combined data from: 'data_csv/all_runs_combined.csv'\n",
      "Will save analysis to: 'statistical_analysis'\n"
     ]
    }
   ],
   "execution_count": 1
  },
  {
   "metadata": {
    "ExecuteTime": {
     "end_time": "2025-06-26T04:23:26.764549Z",
     "start_time": "2025-06-26T04:23:26.720581Z"
    }
   },
   "cell_type": "code",
   "source": [
    "try:\n",
    "    df = pd.read_csv(combined_csv_path)\n",
    "    print(\"✅ Successfully loaded the combined data.\")\n",
    "    print(\"\\nData preview:\")\n",
    "    display(df.head())\n",
    "except FileNotFoundError:\n",
    "    print(f\"❌ ERROR: File not found at '{combined_csv_path}'.\")\n",
    "    print(\"Please run the 'preprocessing.ipynb' notebook first to generate this file.\")\n"
   ],
   "id": "f1c3144bce3efdb4",
   "outputs": [
    {
     "name": "stdout",
     "output_type": "stream",
     "text": [
      "✅ Successfully loaded the combined data.\n",
      "\n",
      "Data preview:\n"
     ]
    },
    {
     "data": {
      "text/plain": [
       "   run_id  dataset_size         model_name    arch_type  n_params  train_loss  \\\n",
       "0       1           400   transformer_nano  transformer   3243968   10.391734   \n",
       "1       1           400  transformer_micro  transformer   6637056   10.010585   \n",
       "2       1           400          lstm_nano         lstm   3283601   10.767841   \n",
       "3       1           400         lstm_micro         lstm   6616273   10.698589   \n",
       "4       1           400           gru_nano          gru   3279377   10.734201   \n",
       "\n",
       "    val_loss   gen_gap  training_time  \n",
       "0  10.584248  0.192514       0.879869  \n",
       "1  10.341223  0.330638       0.959431  \n",
       "2  10.776723  0.008882       0.918976  \n",
       "3  10.704955  0.006366       1.014123  \n",
       "4  10.772248  0.038048       0.941737  "
      ],
      "text/html": [
       "<div>\n",
       "<style scoped>\n",
       "    .dataframe tbody tr th:only-of-type {\n",
       "        vertical-align: middle;\n",
       "    }\n",
       "\n",
       "    .dataframe tbody tr th {\n",
       "        vertical-align: top;\n",
       "    }\n",
       "\n",
       "    .dataframe thead th {\n",
       "        text-align: right;\n",
       "    }\n",
       "</style>\n",
       "<table border=\"1\" class=\"dataframe\">\n",
       "  <thead>\n",
       "    <tr style=\"text-align: right;\">\n",
       "      <th></th>\n",
       "      <th>run_id</th>\n",
       "      <th>dataset_size</th>\n",
       "      <th>model_name</th>\n",
       "      <th>arch_type</th>\n",
       "      <th>n_params</th>\n",
       "      <th>train_loss</th>\n",
       "      <th>val_loss</th>\n",
       "      <th>gen_gap</th>\n",
       "      <th>training_time</th>\n",
       "    </tr>\n",
       "  </thead>\n",
       "  <tbody>\n",
       "    <tr>\n",
       "      <th>0</th>\n",
       "      <td>1</td>\n",
       "      <td>400</td>\n",
       "      <td>transformer_nano</td>\n",
       "      <td>transformer</td>\n",
       "      <td>3243968</td>\n",
       "      <td>10.391734</td>\n",
       "      <td>10.584248</td>\n",
       "      <td>0.192514</td>\n",
       "      <td>0.879869</td>\n",
       "    </tr>\n",
       "    <tr>\n",
       "      <th>1</th>\n",
       "      <td>1</td>\n",
       "      <td>400</td>\n",
       "      <td>transformer_micro</td>\n",
       "      <td>transformer</td>\n",
       "      <td>6637056</td>\n",
       "      <td>10.010585</td>\n",
       "      <td>10.341223</td>\n",
       "      <td>0.330638</td>\n",
       "      <td>0.959431</td>\n",
       "    </tr>\n",
       "    <tr>\n",
       "      <th>2</th>\n",
       "      <td>1</td>\n",
       "      <td>400</td>\n",
       "      <td>lstm_nano</td>\n",
       "      <td>lstm</td>\n",
       "      <td>3283601</td>\n",
       "      <td>10.767841</td>\n",
       "      <td>10.776723</td>\n",
       "      <td>0.008882</td>\n",
       "      <td>0.918976</td>\n",
       "    </tr>\n",
       "    <tr>\n",
       "      <th>3</th>\n",
       "      <td>1</td>\n",
       "      <td>400</td>\n",
       "      <td>lstm_micro</td>\n",
       "      <td>lstm</td>\n",
       "      <td>6616273</td>\n",
       "      <td>10.698589</td>\n",
       "      <td>10.704955</td>\n",
       "      <td>0.006366</td>\n",
       "      <td>1.014123</td>\n",
       "    </tr>\n",
       "    <tr>\n",
       "      <th>4</th>\n",
       "      <td>1</td>\n",
       "      <td>400</td>\n",
       "      <td>gru_nano</td>\n",
       "      <td>gru</td>\n",
       "      <td>3279377</td>\n",
       "      <td>10.734201</td>\n",
       "      <td>10.772248</td>\n",
       "      <td>0.038048</td>\n",
       "      <td>0.941737</td>\n",
       "    </tr>\n",
       "  </tbody>\n",
       "</table>\n",
       "</div>"
      ]
     },
     "metadata": {},
     "output_type": "display_data"
    }
   ],
   "execution_count": 2
  },
  {
   "metadata": {
    "ExecuteTime": {
     "end_time": "2025-06-26T04:23:29.562914Z",
     "start_time": "2025-06-26T04:23:29.503478Z"
    }
   },
   "cell_type": "code",
   "source": [
    "if 'df' in locals():\n",
    "    # Define the columns we want to aggregate\n",
    "    metrics_to_aggregate = ['val_loss', 'train_loss', 'gen_gap', 'training_time']\n",
    "\n",
    "    # Group by the experimental conditions\n",
    "    grouping_keys = ['dataset_size', 'model_name', 'arch_type', 'n_params']\n",
    "\n",
    "    # Calculate mean and standard deviation for each metric\n",
    "    # The 'agg' function is perfect for this\n",
    "    statistical_summary = df.groupby(grouping_keys)[metrics_to_aggregate].agg(['mean', 'std']).reset_index()\n",
    "\n",
    "    # Flatten the multi-level column names (e.g., from ('val_loss', 'mean') to 'val_loss_mean')\n",
    "    statistical_summary.columns = ['_'.join(col).strip('_') for col in statistical_summary.columns.values]\n",
    "\n",
    "    print(\"✅ Statistical aggregation complete.\")\n",
    "    print(\"\\nSummary preview:\")\n",
    "    display(statistical_summary.head())"
   ],
   "id": "6a6f38682f41c24c",
   "outputs": [
    {
     "name": "stdout",
     "output_type": "stream",
     "text": [
      "✅ Statistical aggregation complete.\n",
      "\n",
      "Summary preview:\n"
     ]
    },
    {
     "data": {
      "text/plain": [
       "   dataset_size  model_name arch_type  n_params  val_loss_mean  val_loss_std  \\\n",
       "0           400   gru_micro       gru   6582993      10.435173      0.192486   \n",
       "1           400    gru_nano       gru   3279377      10.702211      0.082433   \n",
       "2           400  lstm_micro      lstm   6616273      10.616153      0.085293   \n",
       "3           400   lstm_nano      lstm   3283601      10.760715      0.029740   \n",
       "4           400   mlp_micro       mlp   6499793      10.707250      0.065135   \n",
       "\n",
       "   train_loss_mean  train_loss_std  gen_gap_mean  gen_gap_std  \\\n",
       "0        10.487455        0.020701     -0.052282     0.189808   \n",
       "1        10.710784        0.018990     -0.008573     0.065711   \n",
       "2        10.671145        0.025650     -0.054992     0.087814   \n",
       "3        10.762294        0.005620     -0.001579     0.027997   \n",
       "4        10.726447        0.016862     -0.019196     0.060843   \n",
       "\n",
       "   training_time_mean  training_time_std  \n",
       "0            1.066920           0.083106  \n",
       "1            0.941317           0.013385  \n",
       "2            1.024124           0.011790  \n",
       "3            0.940713           0.035470  \n",
       "4            0.863518           0.022959  "
      ],
      "text/html": [
       "<div>\n",
       "<style scoped>\n",
       "    .dataframe tbody tr th:only-of-type {\n",
       "        vertical-align: middle;\n",
       "    }\n",
       "\n",
       "    .dataframe tbody tr th {\n",
       "        vertical-align: top;\n",
       "    }\n",
       "\n",
       "    .dataframe thead th {\n",
       "        text-align: right;\n",
       "    }\n",
       "</style>\n",
       "<table border=\"1\" class=\"dataframe\">\n",
       "  <thead>\n",
       "    <tr style=\"text-align: right;\">\n",
       "      <th></th>\n",
       "      <th>dataset_size</th>\n",
       "      <th>model_name</th>\n",
       "      <th>arch_type</th>\n",
       "      <th>n_params</th>\n",
       "      <th>val_loss_mean</th>\n",
       "      <th>val_loss_std</th>\n",
       "      <th>train_loss_mean</th>\n",
       "      <th>train_loss_std</th>\n",
       "      <th>gen_gap_mean</th>\n",
       "      <th>gen_gap_std</th>\n",
       "      <th>training_time_mean</th>\n",
       "      <th>training_time_std</th>\n",
       "    </tr>\n",
       "  </thead>\n",
       "  <tbody>\n",
       "    <tr>\n",
       "      <th>0</th>\n",
       "      <td>400</td>\n",
       "      <td>gru_micro</td>\n",
       "      <td>gru</td>\n",
       "      <td>6582993</td>\n",
       "      <td>10.435173</td>\n",
       "      <td>0.192486</td>\n",
       "      <td>10.487455</td>\n",
       "      <td>0.020701</td>\n",
       "      <td>-0.052282</td>\n",
       "      <td>0.189808</td>\n",
       "      <td>1.066920</td>\n",
       "      <td>0.083106</td>\n",
       "    </tr>\n",
       "    <tr>\n",
       "      <th>1</th>\n",
       "      <td>400</td>\n",
       "      <td>gru_nano</td>\n",
       "      <td>gru</td>\n",
       "      <td>3279377</td>\n",
       "      <td>10.702211</td>\n",
       "      <td>0.082433</td>\n",
       "      <td>10.710784</td>\n",
       "      <td>0.018990</td>\n",
       "      <td>-0.008573</td>\n",
       "      <td>0.065711</td>\n",
       "      <td>0.941317</td>\n",
       "      <td>0.013385</td>\n",
       "    </tr>\n",
       "    <tr>\n",
       "      <th>2</th>\n",
       "      <td>400</td>\n",
       "      <td>lstm_micro</td>\n",
       "      <td>lstm</td>\n",
       "      <td>6616273</td>\n",
       "      <td>10.616153</td>\n",
       "      <td>0.085293</td>\n",
       "      <td>10.671145</td>\n",
       "      <td>0.025650</td>\n",
       "      <td>-0.054992</td>\n",
       "      <td>0.087814</td>\n",
       "      <td>1.024124</td>\n",
       "      <td>0.011790</td>\n",
       "    </tr>\n",
       "    <tr>\n",
       "      <th>3</th>\n",
       "      <td>400</td>\n",
       "      <td>lstm_nano</td>\n",
       "      <td>lstm</td>\n",
       "      <td>3283601</td>\n",
       "      <td>10.760715</td>\n",
       "      <td>0.029740</td>\n",
       "      <td>10.762294</td>\n",
       "      <td>0.005620</td>\n",
       "      <td>-0.001579</td>\n",
       "      <td>0.027997</td>\n",
       "      <td>0.940713</td>\n",
       "      <td>0.035470</td>\n",
       "    </tr>\n",
       "    <tr>\n",
       "      <th>4</th>\n",
       "      <td>400</td>\n",
       "      <td>mlp_micro</td>\n",
       "      <td>mlp</td>\n",
       "      <td>6499793</td>\n",
       "      <td>10.707250</td>\n",
       "      <td>0.065135</td>\n",
       "      <td>10.726447</td>\n",
       "      <td>0.016862</td>\n",
       "      <td>-0.019196</td>\n",
       "      <td>0.060843</td>\n",
       "      <td>0.863518</td>\n",
       "      <td>0.022959</td>\n",
       "    </tr>\n",
       "  </tbody>\n",
       "</table>\n",
       "</div>"
      ]
     },
     "metadata": {},
     "output_type": "display_data"
    }
   ],
   "execution_count": 3
  },
  {
   "metadata": {
    "ExecuteTime": {
     "end_time": "2025-06-26T04:23:32.066689Z",
     "start_time": "2025-06-26T04:23:32.054118Z"
    }
   },
   "cell_type": "code",
   "source": [
    "if 'statistical_summary' in locals():\n",
    "    # Save the summary DataFrame to a new CSV file\n",
    "    summary_output_path = os.path.join(ANALYSIS_FOLDER, 'statistical_summary.csv')\n",
    "    statistical_summary.to_csv(summary_output_path, index=False)\n",
    "\n",
    "    print(f\"\\n🎉 Successfully saved the statistical summary.\")\n",
    "    print(f\"✅ Analysis file saved to '{summary_output_path}'\")"
   ],
   "id": "dd3e806defd78bb7",
   "outputs": [
    {
     "name": "stdout",
     "output_type": "stream",
     "text": [
      "\n",
      "🎉 Successfully saved the statistical summary.\n",
      "✅ Analysis file saved to 'statistical_analysis/statistical_summary.csv'\n"
     ]
    }
   ],
   "execution_count": 4
  }
 ],
 "metadata": {
  "kernelspec": {
   "display_name": "Python 3",
   "language": "python",
   "name": "python3"
  },
  "language_info": {
   "codemirror_mode": {
    "name": "ipython",
    "version": 2
   },
   "file_extension": ".py",
   "mimetype": "text/x-python",
   "name": "python",
   "nbconvert_exporter": "python",
   "pygments_lexer": "ipython2",
   "version": "2.7.6"
  }
 },
 "nbformat": 4,
 "nbformat_minor": 5
}
