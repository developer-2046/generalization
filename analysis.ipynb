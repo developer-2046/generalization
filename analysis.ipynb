{
 "cells": [
  {
   "cell_type": "code",
   "id": "initial_id",
   "metadata": {
    "collapsed": true,
    "ExecuteTime": {
     "end_time": "2025-06-27T23:13:19.355315Z",
     "start_time": "2025-06-27T23:13:19.349882Z"
    }
   },
   "source": [
    "import pandas as pd\n",
    "import os\n",
    "\n",
    "# --- Configuration ---\n",
    "CSV_FOLDER = 'data_csv'\n",
    "ANALYSIS_FOLDER = 'statistical_analysis'\n",
    "os.makedirs(ANALYSIS_FOLDER, exist_ok=True)\n",
    "\n",
    "combined_csv_path = os.path.join(CSV_FOLDER, 'all_runs_combined.csv')\n",
    "\n",
    "print(f\"Reading combined data from: '{combined_csv_path}'\")\n",
    "print(f\"Will save analysis to: '{ANALYSIS_FOLDER}'\")\n"
   ],
   "outputs": [
    {
     "name": "stdout",
     "output_type": "stream",
     "text": [
      "Reading combined data from: 'data_csv/all_runs_combined.csv'\n",
      "Will save analysis to: 'statistical_analysis'\n"
     ]
    }
   ],
   "execution_count": 1
  },
  {
   "metadata": {
    "ExecuteTime": {
     "end_time": "2025-06-27T23:13:22.079731Z",
     "start_time": "2025-06-27T23:13:22.047868Z"
    }
   },
   "cell_type": "code",
   "source": [
    "try:\n",
    "    df = pd.read_csv(combined_csv_path)\n",
    "    print(\"✅ Successfully loaded the combined data.\")\n",
    "    print(\"\\nData preview:\")\n",
    "    display(df.head())\n",
    "except FileNotFoundError:\n",
    "    print(f\"❌ ERROR: File not found at '{combined_csv_path}'.\")\n",
    "    print(\"Please run the 'preprocessing.ipynb' notebook first.\")\n"
   ],
   "id": "f1c3144bce3efdb4",
   "outputs": [
    {
     "name": "stdout",
     "output_type": "stream",
     "text": [
      "✅ Successfully loaded the combined data.\n",
      "\n",
      "Data preview:\n"
     ]
    },
    {
     "data": {
      "text/plain": [
       "   run_id        experiment_key model_name size_variant     arch_type  \\\n",
       "0       1   decoder_small_n1000    decoder        small  decoder_only   \n",
       "1       1   decoder_small_n5000    decoder        small  decoder_only   \n",
       "2       1  decoder_small_n10000    decoder        small  decoder_only   \n",
       "3       1    decoder_base_n1000    decoder         base  decoder_only   \n",
       "4       1    decoder_base_n5000    decoder         base  decoder_only   \n",
       "\n",
       "   dataset_size  n_params  val_loss  val_accuracy  training_time  \n",
       "0          1000    778504  8.551140           0.0       1.873749  \n",
       "1          5000    778504  7.951559           0.0       4.987655  \n",
       "2         10000    778504  7.622734           0.0       7.977101  \n",
       "3          1000   2343304  8.500344           0.0       1.692486  \n",
       "4          5000   2343304  7.773940           0.0       7.706840  "
      ],
      "text/html": [
       "<div>\n",
       "<style scoped>\n",
       "    .dataframe tbody tr th:only-of-type {\n",
       "        vertical-align: middle;\n",
       "    }\n",
       "\n",
       "    .dataframe tbody tr th {\n",
       "        vertical-align: top;\n",
       "    }\n",
       "\n",
       "    .dataframe thead th {\n",
       "        text-align: right;\n",
       "    }\n",
       "</style>\n",
       "<table border=\"1\" class=\"dataframe\">\n",
       "  <thead>\n",
       "    <tr style=\"text-align: right;\">\n",
       "      <th></th>\n",
       "      <th>run_id</th>\n",
       "      <th>experiment_key</th>\n",
       "      <th>model_name</th>\n",
       "      <th>size_variant</th>\n",
       "      <th>arch_type</th>\n",
       "      <th>dataset_size</th>\n",
       "      <th>n_params</th>\n",
       "      <th>val_loss</th>\n",
       "      <th>val_accuracy</th>\n",
       "      <th>training_time</th>\n",
       "    </tr>\n",
       "  </thead>\n",
       "  <tbody>\n",
       "    <tr>\n",
       "      <th>0</th>\n",
       "      <td>1</td>\n",
       "      <td>decoder_small_n1000</td>\n",
       "      <td>decoder</td>\n",
       "      <td>small</td>\n",
       "      <td>decoder_only</td>\n",
       "      <td>1000</td>\n",
       "      <td>778504</td>\n",
       "      <td>8.551140</td>\n",
       "      <td>0.0</td>\n",
       "      <td>1.873749</td>\n",
       "    </tr>\n",
       "    <tr>\n",
       "      <th>1</th>\n",
       "      <td>1</td>\n",
       "      <td>decoder_small_n5000</td>\n",
       "      <td>decoder</td>\n",
       "      <td>small</td>\n",
       "      <td>decoder_only</td>\n",
       "      <td>5000</td>\n",
       "      <td>778504</td>\n",
       "      <td>7.951559</td>\n",
       "      <td>0.0</td>\n",
       "      <td>4.987655</td>\n",
       "    </tr>\n",
       "    <tr>\n",
       "      <th>2</th>\n",
       "      <td>1</td>\n",
       "      <td>decoder_small_n10000</td>\n",
       "      <td>decoder</td>\n",
       "      <td>small</td>\n",
       "      <td>decoder_only</td>\n",
       "      <td>10000</td>\n",
       "      <td>778504</td>\n",
       "      <td>7.622734</td>\n",
       "      <td>0.0</td>\n",
       "      <td>7.977101</td>\n",
       "    </tr>\n",
       "    <tr>\n",
       "      <th>3</th>\n",
       "      <td>1</td>\n",
       "      <td>decoder_base_n1000</td>\n",
       "      <td>decoder</td>\n",
       "      <td>base</td>\n",
       "      <td>decoder_only</td>\n",
       "      <td>1000</td>\n",
       "      <td>2343304</td>\n",
       "      <td>8.500344</td>\n",
       "      <td>0.0</td>\n",
       "      <td>1.692486</td>\n",
       "    </tr>\n",
       "    <tr>\n",
       "      <th>4</th>\n",
       "      <td>1</td>\n",
       "      <td>decoder_base_n5000</td>\n",
       "      <td>decoder</td>\n",
       "      <td>base</td>\n",
       "      <td>decoder_only</td>\n",
       "      <td>5000</td>\n",
       "      <td>2343304</td>\n",
       "      <td>7.773940</td>\n",
       "      <td>0.0</td>\n",
       "      <td>7.706840</td>\n",
       "    </tr>\n",
       "  </tbody>\n",
       "</table>\n",
       "</div>"
      ]
     },
     "metadata": {},
     "output_type": "display_data"
    }
   ],
   "execution_count": 2
  },
  {
   "metadata": {
    "ExecuteTime": {
     "end_time": "2025-06-27T23:13:25.312970Z",
     "start_time": "2025-06-27T23:13:25.276799Z"
    }
   },
   "cell_type": "code",
   "source": [
    "if 'df' in locals():\n",
    "    # Define the metrics to aggregate\n",
    "    metrics_to_aggregate = ['val_loss', 'val_accuracy', 'training_time']\n",
    "\n",
    "    # Group by the new experimental conditions\n",
    "    grouping_keys = ['arch_type', 'size_variant', 'dataset_size', 'n_params']\n",
    "\n",
    "    # Calculate mean and standard deviation\n",
    "    statistical_summary = df.groupby(grouping_keys)[metrics_to_aggregate].agg(['mean', 'std']).reset_index()\n",
    "\n",
    "    # Flatten the multi-level column names\n",
    "    statistical_summary.columns = ['_'.join(col).strip('_') for col in statistical_summary.columns.values]\n",
    "\n",
    "    # Sort the results for cleaner presentation\n",
    "    statistical_summary = statistical_summary.sort_values(by=['arch_type', 'size_variant', 'dataset_size'])\n",
    "\n",
    "    print(\"✅ Statistical aggregation complete.\")\n",
    "    print(\"\\nSummary preview:\")\n",
    "    display(statistical_summary.head())\n"
   ],
   "id": "6a6f38682f41c24c",
   "outputs": [
    {
     "name": "stdout",
     "output_type": "stream",
     "text": [
      "✅ Statistical aggregation complete.\n",
      "\n",
      "Summary preview:\n"
     ]
    },
    {
     "data": {
      "text/plain": [
       "      arch_type size_variant  dataset_size  n_params  val_loss_mean  \\\n",
       "0  decoder_only         base          1000   2343304       8.488891   \n",
       "1  decoder_only         base          5000   2343304       7.782166   \n",
       "2  decoder_only         base         10000   2343304       7.162202   \n",
       "3  decoder_only        small          1000    778504       8.551616   \n",
       "4  decoder_only        small          5000    778504       7.953337   \n",
       "\n",
       "   val_loss_std  val_accuracy_mean  val_accuracy_std  training_time_mean  \\\n",
       "0      0.012199                0.0               0.0            1.595834   \n",
       "1      0.009035                0.0               0.0            7.497437   \n",
       "2      0.030113                0.0               0.0           14.785040   \n",
       "3      0.008455                0.0               0.0            1.093013   \n",
       "4      0.006059                0.0               0.0            4.298236   \n",
       "\n",
       "   training_time_std  \n",
       "0           0.148340  \n",
       "1           0.297877  \n",
       "2           0.135116  \n",
       "3           0.444149  \n",
       "4           0.424087  "
      ],
      "text/html": [
       "<div>\n",
       "<style scoped>\n",
       "    .dataframe tbody tr th:only-of-type {\n",
       "        vertical-align: middle;\n",
       "    }\n",
       "\n",
       "    .dataframe tbody tr th {\n",
       "        vertical-align: top;\n",
       "    }\n",
       "\n",
       "    .dataframe thead th {\n",
       "        text-align: right;\n",
       "    }\n",
       "</style>\n",
       "<table border=\"1\" class=\"dataframe\">\n",
       "  <thead>\n",
       "    <tr style=\"text-align: right;\">\n",
       "      <th></th>\n",
       "      <th>arch_type</th>\n",
       "      <th>size_variant</th>\n",
       "      <th>dataset_size</th>\n",
       "      <th>n_params</th>\n",
       "      <th>val_loss_mean</th>\n",
       "      <th>val_loss_std</th>\n",
       "      <th>val_accuracy_mean</th>\n",
       "      <th>val_accuracy_std</th>\n",
       "      <th>training_time_mean</th>\n",
       "      <th>training_time_std</th>\n",
       "    </tr>\n",
       "  </thead>\n",
       "  <tbody>\n",
       "    <tr>\n",
       "      <th>0</th>\n",
       "      <td>decoder_only</td>\n",
       "      <td>base</td>\n",
       "      <td>1000</td>\n",
       "      <td>2343304</td>\n",
       "      <td>8.488891</td>\n",
       "      <td>0.012199</td>\n",
       "      <td>0.0</td>\n",
       "      <td>0.0</td>\n",
       "      <td>1.595834</td>\n",
       "      <td>0.148340</td>\n",
       "    </tr>\n",
       "    <tr>\n",
       "      <th>1</th>\n",
       "      <td>decoder_only</td>\n",
       "      <td>base</td>\n",
       "      <td>5000</td>\n",
       "      <td>2343304</td>\n",
       "      <td>7.782166</td>\n",
       "      <td>0.009035</td>\n",
       "      <td>0.0</td>\n",
       "      <td>0.0</td>\n",
       "      <td>7.497437</td>\n",
       "      <td>0.297877</td>\n",
       "    </tr>\n",
       "    <tr>\n",
       "      <th>2</th>\n",
       "      <td>decoder_only</td>\n",
       "      <td>base</td>\n",
       "      <td>10000</td>\n",
       "      <td>2343304</td>\n",
       "      <td>7.162202</td>\n",
       "      <td>0.030113</td>\n",
       "      <td>0.0</td>\n",
       "      <td>0.0</td>\n",
       "      <td>14.785040</td>\n",
       "      <td>0.135116</td>\n",
       "    </tr>\n",
       "    <tr>\n",
       "      <th>3</th>\n",
       "      <td>decoder_only</td>\n",
       "      <td>small</td>\n",
       "      <td>1000</td>\n",
       "      <td>778504</td>\n",
       "      <td>8.551616</td>\n",
       "      <td>0.008455</td>\n",
       "      <td>0.0</td>\n",
       "      <td>0.0</td>\n",
       "      <td>1.093013</td>\n",
       "      <td>0.444149</td>\n",
       "    </tr>\n",
       "    <tr>\n",
       "      <th>4</th>\n",
       "      <td>decoder_only</td>\n",
       "      <td>small</td>\n",
       "      <td>5000</td>\n",
       "      <td>778504</td>\n",
       "      <td>7.953337</td>\n",
       "      <td>0.006059</td>\n",
       "      <td>0.0</td>\n",
       "      <td>0.0</td>\n",
       "      <td>4.298236</td>\n",
       "      <td>0.424087</td>\n",
       "    </tr>\n",
       "  </tbody>\n",
       "</table>\n",
       "</div>"
      ]
     },
     "metadata": {},
     "output_type": "display_data"
    }
   ],
   "execution_count": 3
  },
  {
   "metadata": {
    "ExecuteTime": {
     "end_time": "2025-06-27T23:13:28.296209Z",
     "start_time": "2025-06-27T23:13:28.286363Z"
    }
   },
   "cell_type": "code",
   "source": [
    "if 'statistical_summary' in locals():\n",
    "    summary_output_path = os.path.join(ANALYSIS_FOLDER, 'statistical_summary.csv')\n",
    "    statistical_summary.to_csv(summary_output_path, index=False)\n",
    "\n",
    "    print(f\"\\n🎉 Successfully saved the statistical summary.\")\n",
    "    print(f\"✅ Analysis file saved to '{summary_output_path}'\")\n"
   ],
   "id": "dd3e806defd78bb7",
   "outputs": [
    {
     "name": "stdout",
     "output_type": "stream",
     "text": [
      "\n",
      "🎉 Successfully saved the statistical summary.\n",
      "✅ Analysis file saved to 'statistical_analysis/statistical_summary.csv'\n"
     ]
    }
   ],
   "execution_count": 4
  }
 ],
 "metadata": {
  "kernelspec": {
   "display_name": "Python 3",
   "language": "python",
   "name": "python3"
  },
  "language_info": {
   "codemirror_mode": {
    "name": "ipython",
    "version": 2
   },
   "file_extension": ".py",
   "mimetype": "text/x-python",
   "name": "python",
   "nbconvert_exporter": "python",
   "pygments_lexer": "ipython2",
   "version": "2.7.6"
  }
 },
 "nbformat": 4,
 "nbformat_minor": 5
}
